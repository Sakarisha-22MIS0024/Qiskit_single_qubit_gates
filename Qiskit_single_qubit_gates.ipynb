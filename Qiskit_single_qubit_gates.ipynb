{
  "nbformat": 4,
  "nbformat_minor": 0,
  "metadata": {
    "colab": {
      "provenance": []
    },
    "kernelspec": {
      "name": "python3",
      "display_name": "Python 3"
    },
    "language_info": {
      "name": "python"
    }
  },
  "cells": [
    {
      "cell_type": "code",
      "source": [
        "!pip install qiskit qiskit-aer --upgrade"
      ],
      "metadata": {
        "id": "Mx6284lurNt1",
        "outputId": "96abe54b-16d8-45b3-b8c1-0125a0a2cbcc",
        "colab": {
          "base_uri": "https://localhost:8080/"
        }
      },
      "execution_count": 1,
      "outputs": [
        {
          "output_type": "stream",
          "name": "stdout",
          "text": [
            "Collecting qiskit\n",
            "  Downloading qiskit-2.2.1-cp39-abi3-manylinux2014_x86_64.manylinux_2_17_x86_64.whl.metadata (12 kB)\n",
            "Collecting qiskit-aer\n",
            "  Downloading qiskit_aer-0.17.2-cp312-cp312-manylinux_2_17_x86_64.manylinux2014_x86_64.whl.metadata (8.3 kB)\n",
            "Collecting rustworkx>=0.15.0 (from qiskit)\n",
            "  Downloading rustworkx-0.17.1-cp39-abi3-manylinux_2_17_x86_64.manylinux2014_x86_64.whl.metadata (10 kB)\n",
            "Requirement already satisfied: numpy<3,>=1.17 in /usr/local/lib/python3.12/dist-packages (from qiskit) (2.0.2)\n",
            "Requirement already satisfied: scipy>=1.5 in /usr/local/lib/python3.12/dist-packages (from qiskit) (1.16.2)\n",
            "Requirement already satisfied: dill>=0.3 in /usr/local/lib/python3.12/dist-packages (from qiskit) (0.3.8)\n",
            "Collecting stevedore>=3.0.0 (from qiskit)\n",
            "  Downloading stevedore-5.5.0-py3-none-any.whl.metadata (2.2 kB)\n",
            "Requirement already satisfied: typing-extensions in /usr/local/lib/python3.12/dist-packages (from qiskit) (4.15.0)\n",
            "Requirement already satisfied: psutil>=5 in /usr/local/lib/python3.12/dist-packages (from qiskit-aer) (5.9.5)\n",
            "Requirement already satisfied: python-dateutil>=2.8.0 in /usr/local/lib/python3.12/dist-packages (from qiskit-aer) (2.9.0.post0)\n",
            "Requirement already satisfied: six>=1.5 in /usr/local/lib/python3.12/dist-packages (from python-dateutil>=2.8.0->qiskit-aer) (1.17.0)\n",
            "Downloading qiskit-2.2.1-cp39-abi3-manylinux2014_x86_64.manylinux_2_17_x86_64.whl (8.0 MB)\n",
            "\u001b[2K   \u001b[90m━━━━━━━━━━━━━━━━━━━━━━━━━━━━━━━━━━━━━━━━\u001b[0m \u001b[32m8.0/8.0 MB\u001b[0m \u001b[31m43.0 MB/s\u001b[0m eta \u001b[36m0:00:00\u001b[0m\n",
            "\u001b[?25hDownloading qiskit_aer-0.17.2-cp312-cp312-manylinux_2_17_x86_64.manylinux2014_x86_64.whl (12.4 MB)\n",
            "\u001b[2K   \u001b[90m━━━━━━━━━━━━━━━━━━━━━━━━━━━━━━━━━━━━━━━━\u001b[0m \u001b[32m12.4/12.4 MB\u001b[0m \u001b[31m71.9 MB/s\u001b[0m eta \u001b[36m0:00:00\u001b[0m\n",
            "\u001b[?25hDownloading rustworkx-0.17.1-cp39-abi3-manylinux_2_17_x86_64.manylinux2014_x86_64.whl (2.2 MB)\n",
            "\u001b[2K   \u001b[90m━━━━━━━━━━━━━━━━━━━━━━━━━━━━━━━━━━━━━━━━\u001b[0m \u001b[32m2.2/2.2 MB\u001b[0m \u001b[31m72.6 MB/s\u001b[0m eta \u001b[36m0:00:00\u001b[0m\n",
            "\u001b[?25hDownloading stevedore-5.5.0-py3-none-any.whl (49 kB)\n",
            "\u001b[2K   \u001b[90m━━━━━━━━━━━━━━━━━━━━━━━━━━━━━━━━━━━━━━━━\u001b[0m \u001b[32m49.5/49.5 kB\u001b[0m \u001b[31m4.0 MB/s\u001b[0m eta \u001b[36m0:00:00\u001b[0m\n",
            "\u001b[?25hInstalling collected packages: stevedore, rustworkx, qiskit, qiskit-aer\n",
            "Successfully installed qiskit-2.2.1 qiskit-aer-0.17.2 rustworkx-0.17.1 stevedore-5.5.0\n"
          ]
        }
      ]
    },
    {
      "cell_type": "code",
      "execution_count": 2,
      "metadata": {
        "id": "VPOwLacGrCdU",
        "outputId": "aab286e1-0ab8-49a8-a382-eb8e680c662f",
        "colab": {
          "base_uri": "https://localhost:8080/"
        }
      },
      "outputs": [
        {
          "output_type": "stream",
          "name": "stdout",
          "text": [
            "Quantum Circuit:\n",
            "        ┌───┐┌───┐┌───┐┌───┐┌─────────┐ ░ ┌─┐\n",
            "     q: ┤ X ├┤ H ├┤ S ├┤ T ├┤ Rz(0.5) ├─░─┤M├\n",
            "        └───┘└───┘└───┘└───┘└─────────┘ ░ └╥┘\n",
            "   c: 1/═══════════════════════════════════╬═\n",
            "                                           ║ \n",
            "meas: 1/═══════════════════════════════════╩═\n",
            "                                           0 \n",
            "\n",
            "Measurement Counts: {'0 0': 520, '1 0': 504}\n"
          ]
        }
      ],
      "source": [
        "from qiskit import QuantumCircuit, transpile\n",
        "from qiskit_aer import AerSimulator\n",
        "\n",
        "# Initialize simulator\n",
        "sim = AerSimulator()\n",
        "\n",
        "# Create a single-qubit circuit with one classical bit\n",
        "qc = QuantumCircuit(1, 1)\n",
        "\n",
        "# --- Apply sequence of single-qubit gates ---\n",
        "qc.x(0)        # Pauli-X (NOT gate)\n",
        "qc.h(0)        # Hadamard (superposition)\n",
        "qc.s(0)        # Phase gate (π/2)\n",
        "qc.t(0)        # T gate (π/4)\n",
        "qc.rz(0.5, 0)  # Z-axis rotation by 0.5 radians\n",
        "\n",
        "# Measure final state\n",
        "qc.measure_all()\n",
        "\n",
        "# Display circuit\n",
        "print(\"Quantum Circuit:\")\n",
        "print(qc.draw())\n",
        "\n",
        "# --- Run simulation ---\n",
        "compiled = transpile(qc, sim)\n",
        "result = sim.run(compiled, shots=1024).result()\n",
        "\n",
        "# --- Display results ---\n",
        "counts = result.get_counts()\n",
        "print(\"\\nMeasurement Counts:\", counts)\n"
      ]
    },
    {
      "cell_type": "markdown",
      "source": [
        "**TASKS**"
      ],
      "metadata": {
        "id": "piW6exBCJlN_"
      }
    },
    {
      "cell_type": "code",
      "source": [
        "#INSTALL\n",
        "!pip install qiskit qiskit-aer --upgrade\n",
        "\n",
        "from qiskit import QuantumCircuit, transpile\n",
        "from qiskit_aer import AerSimulator\n",
        "from math import pi\n",
        "\n",
        "# Initialize simulator\n",
        "sim = AerSimulator()\n",
        "\n",
        "# Create a single-qubit circuit with one classical bit\n",
        "qc = QuantumCircuit(1, 1)"
      ],
      "metadata": {
        "id": "_16Xre15JyUZ",
        "outputId": "6bd73a01-700b-439b-8510-b146f93a7870",
        "colab": {
          "base_uri": "https://localhost:8080/"
        }
      },
      "execution_count": 3,
      "outputs": [
        {
          "output_type": "stream",
          "name": "stdout",
          "text": [
            "Requirement already satisfied: qiskit in /usr/local/lib/python3.12/dist-packages (2.2.1)\n",
            "Requirement already satisfied: qiskit-aer in /usr/local/lib/python3.12/dist-packages (0.17.2)\n",
            "Requirement already satisfied: rustworkx>=0.15.0 in /usr/local/lib/python3.12/dist-packages (from qiskit) (0.17.1)\n",
            "Requirement already satisfied: numpy<3,>=1.17 in /usr/local/lib/python3.12/dist-packages (from qiskit) (2.0.2)\n",
            "Requirement already satisfied: scipy>=1.5 in /usr/local/lib/python3.12/dist-packages (from qiskit) (1.16.2)\n",
            "Requirement already satisfied: dill>=0.3 in /usr/local/lib/python3.12/dist-packages (from qiskit) (0.3.8)\n",
            "Requirement already satisfied: stevedore>=3.0.0 in /usr/local/lib/python3.12/dist-packages (from qiskit) (5.5.0)\n",
            "Requirement already satisfied: typing-extensions in /usr/local/lib/python3.12/dist-packages (from qiskit) (4.15.0)\n",
            "Requirement already satisfied: psutil>=5 in /usr/local/lib/python3.12/dist-packages (from qiskit-aer) (5.9.5)\n",
            "Requirement already satisfied: python-dateutil>=2.8.0 in /usr/local/lib/python3.12/dist-packages (from qiskit-aer) (2.9.0.post0)\n",
            "Requirement already satisfied: six>=1.5 in /usr/local/lib/python3.12/dist-packages (from python-dateutil>=2.8.0->qiskit-aer) (1.17.0)\n"
          ]
        }
      ]
    },
    {
      "cell_type": "code",
      "source": [
        "#1 Change Gate Order\n",
        "qc.h(0)        # Hadamard gate\n",
        "qc.x(0)        # Pauli-X (NOT gate)\n",
        "qc.s(0)        # Phase gate (π/2)\n",
        "qc.t(0)        # T gate (π/4)\n",
        "qc.rz(0.5, 0)  # Z-axis rotation by 0.5 radians\n",
        "\n",
        "# Measure\n",
        "qc.measure_all()\n",
        "\n",
        "# Display circuit\n",
        "print(\"Quantum Circuit:\")\n",
        "print(qc.draw())\n",
        "\n",
        "# Compile and simulate\n",
        "compiled = transpile(qc, sim)\n",
        "result = sim.run(compiled, shots=1024).result()\n",
        "\n",
        "# Get and display results\n",
        "counts = result.get_counts()\n",
        "print(\"\\nMeasurement Counts:\", counts)\n"
      ],
      "metadata": {
        "id": "XXSzfpG9q7hc",
        "outputId": "07264a1e-17dd-4f1e-ad29-bbbe00bd5e0a",
        "colab": {
          "base_uri": "https://localhost:8080/"
        }
      },
      "execution_count": 4,
      "outputs": [
        {
          "output_type": "stream",
          "name": "stdout",
          "text": [
            "Quantum Circuit:\n",
            "        ┌───┐┌───┐┌───┐┌───┐┌─────────┐ ░ ┌─┐\n",
            "     q: ┤ H ├┤ X ├┤ S ├┤ T ├┤ Rz(0.5) ├─░─┤M├\n",
            "        └───┘└───┘└───┘└───┘└─────────┘ ░ └╥┘\n",
            "   c: 1/═══════════════════════════════════╬═\n",
            "                                           ║ \n",
            "meas: 1/═══════════════════════════════════╩═\n",
            "                                           0 \n",
            "\n",
            "Measurement Counts: {'1 0': 502, '0 0': 522}\n"
          ]
        }
      ]
    },
    {
      "cell_type": "markdown",
      "source": [
        "Observation\n",
        "\n",
        "Original order: X → H\n",
        "\n",
        "The X flips |0⟩ → |1⟩, then H makes a superposition of |+⟩ but starting from |1⟩.\n",
        "\n",
        "So the result is roughly 50–50, but phases differ from the standard |+⟩ state.\n",
        "\n",
        "Swapped order: H → X\n",
        "\n",
        "Now H first makes |+⟩ = (|0⟩ + |1⟩)/√2.\n",
        "\n",
        "X flips |0⟩ ↔ |1⟩, resulting in |−⟩ = (|0⟩ − |1⟩)/√2.\n",
        "\n",
        "The probabilities remain 50–50, but the phase difference changes."
      ],
      "metadata": {
        "id": "9c5RsXYtKbhb"
      }
    },
    {
      "cell_type": "code",
      "source": [
        "# 2: Vary Rotation Angle in Rz(θ, 0)\n",
        "qc.x(0)        # Pauli-X (NOT gate)\n",
        "qc.h(0)        # Hadamard gate\n",
        "qc.s(0)        # Phase gate (π/2)\n",
        "qc.t(0)        # T gate (π/4)\n",
        "qc.rz(pi/4, 0)  # 45°\n",
        "qc.rz(pi/2, 0)  # 90°\n",
        "qc.rz(pi, 0)    # 180°\n",
        "# Measure\n",
        "qc.measure_all()\n",
        "\n",
        "# Display circuit\n",
        "print(\"Quantum Circuit:\")\n",
        "print(qc.draw())\n",
        "\n",
        "# Compile and simulate\n",
        "compiled = transpile(qc, sim)\n",
        "result = sim.run(compiled, shots=1024).result()\n",
        "\n",
        "# Get and display results\n",
        "counts = result.get_counts()\n",
        "print(\"\\nMeasurement Counts:\", counts)\n"
      ],
      "metadata": {
        "id": "dZ2K03ZXKfVc",
        "outputId": "3cd2ea27-b348-4eee-f48e-7798ec653c61",
        "colab": {
          "base_uri": "https://localhost:8080/"
        }
      },
      "execution_count": 5,
      "outputs": [
        {
          "output_type": "stream",
          "name": "stdout",
          "text": [
            "Quantum Circuit:\n",
            "         ┌───┐┌───┐┌───┐┌───┐┌─────────┐ ░ ┌─┐┌───┐┌───┐┌───┐┌───┐┌─────────┐»\n",
            "      q: ┤ H ├┤ X ├┤ S ├┤ T ├┤ Rz(0.5) ├─░─┤M├┤ X ├┤ H ├┤ S ├┤ T ├┤ Rz(π/4) ├»\n",
            "         └───┘└───┘└───┘└───┘└─────────┘ ░ └╥┘└───┘└───┘└───┘└───┘└─────────┘»\n",
            "    c: 1/═══════════════════════════════════╬════════════════════════════════»\n",
            "                                            ║                                »\n",
            " meas: 1/═══════════════════════════════════╩════════════════════════════════»\n",
            "                                            0                                »\n",
            "meas0: 1/════════════════════════════════════════════════════════════════════»\n",
            "                                                                             »\n",
            "«         ┌─────────┐┌───────┐ ░ ┌─┐\n",
            "«      q: ┤ Rz(π/2) ├┤ Rz(π) ├─░─┤M├\n",
            "«         └─────────┘└───────┘ ░ └╥┘\n",
            "«    c: 1/════════════════════════╬═\n",
            "«                                 ║ \n",
            "« meas: 1/════════════════════════╬═\n",
            "«                                 ║ \n",
            "«meas0: 1/════════════════════════╩═\n",
            "«                                 0 \n",
            "\n",
            "Measurement Counts: {'1 1 0': 252, '1 0 0': 247, '0 1 0': 273, '0 0 0': 252}\n"
          ]
        }
      ]
    },
    {
      "cell_type": "code",
      "source": [
        "#3: Remove the Hadamard Gate\n",
        "qc.x(0)        # Pauli-X (NOT gate)\n",
        "#qc.h(0)        # Hadamard (superposition)\n",
        "qc.s(0)        # Phase gate (π/2)\n",
        "qc.t(0)        # T gate (π/4)\n",
        "qc.rz(0.5, 0)  # Z-axis rotation by 0.5 radians\n",
        "\n",
        "# Measure final state\n",
        "qc.measure_all()\n",
        "\n",
        "# Display circuit\n",
        "print(\"Quantum Circuit:\")\n",
        "print(qc.draw())\n",
        "\n",
        "# --- Run simulation ---\n",
        "compiled = transpile(qc, sim)\n",
        "result = sim.run(compiled, shots=1024).result()\n",
        "\n",
        "# --- Display results ---\n",
        "counts = result.get_counts()\n",
        "print(\"\\nMeasurement Counts:\", counts)"
      ],
      "metadata": {
        "id": "DrLHE_rGMQ_I",
        "outputId": "82178460-ab6d-4baa-f7b9-4185090deec6",
        "colab": {
          "base_uri": "https://localhost:8080/"
        }
      },
      "execution_count": 6,
      "outputs": [
        {
          "output_type": "stream",
          "name": "stdout",
          "text": [
            "Quantum Circuit:\n",
            "         ┌───┐┌───┐┌───┐┌───┐┌─────────┐ ░ ┌─┐┌───┐┌───┐┌───┐┌───┐┌─────────┐»\n",
            "      q: ┤ H ├┤ X ├┤ S ├┤ T ├┤ Rz(0.5) ├─░─┤M├┤ X ├┤ H ├┤ S ├┤ T ├┤ Rz(π/4) ├»\n",
            "         └───┘└───┘└───┘└───┘└─────────┘ ░ └╥┘└───┘└───┘└───┘└───┘└─────────┘»\n",
            "    c: 1/═══════════════════════════════════╬════════════════════════════════»\n",
            "                                            ║                                »\n",
            " meas: 1/═══════════════════════════════════╩════════════════════════════════»\n",
            "                                            0                                »\n",
            "meas0: 1/════════════════════════════════════════════════════════════════════»\n",
            "                                                                             »\n",
            "meas1: 1/════════════════════════════════════════════════════════════════════»\n",
            "                                                                             »\n",
            "«         ┌─────────┐┌───────┐ ░ ┌─┐┌───┐┌───┐┌───┐┌─────────┐ ░ ┌─┐\n",
            "«      q: ┤ Rz(π/2) ├┤ Rz(π) ├─░─┤M├┤ X ├┤ S ├┤ T ├┤ Rz(0.5) ├─░─┤M├\n",
            "«         └─────────┘└───────┘ ░ └╥┘└───┘└───┘└───┘└─────────┘ ░ └╥┘\n",
            "«    c: 1/════════════════════════╬═══════════════════════════════╬═\n",
            "«                                 ║                               ║ \n",
            "« meas: 1/════════════════════════╬═══════════════════════════════╬═\n",
            "«                                 ║                               ║ \n",
            "«meas0: 1/════════════════════════╩═══════════════════════════════╬═\n",
            "«                                 0                               ║ \n",
            "«meas1: 1/════════════════════════════════════════════════════════╩═\n",
            "«                                                                 0 \n",
            "\n",
            "Measurement Counts: {'0 1 0 0': 261, '1 0 1 0': 258, '0 1 1 0': 244, '1 0 0 0': 261}\n"
          ]
        }
      ]
    }
  ]
}